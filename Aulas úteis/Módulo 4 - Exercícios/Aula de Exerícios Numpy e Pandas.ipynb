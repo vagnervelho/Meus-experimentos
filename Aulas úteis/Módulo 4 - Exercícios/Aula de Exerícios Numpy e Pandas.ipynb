{
 "cells": [
  {
   "cell_type": "code",
   "execution_count": 4,
   "id": "c5f3db54",
   "metadata": {},
   "outputs": [],
   "source": [
    "import pandas as pd\n",
    "import numpy as np"
   ]
  },
  {
   "cell_type": "code",
   "execution_count": 5,
   "id": "4a36ef5c",
   "metadata": {},
   "outputs": [],
   "source": [
    "pd.options.display.float_format = '{:,.2f}'.format"
   ]
  },
  {
   "cell_type": "markdown",
   "id": "3a67cefc",
   "metadata": {},
   "source": [
    "### Problema 1\n",
    "Vamos praticar gerar matrizes e fazer operações com as linhas e colunas:\n",
    "\n",
    "(a) Crie uma matriz A com as dimensões (5, 4) e elementos aleatórios variando entre 0 e 50, com o 50 incluso;\n",
    "\n",
    "__Dica:__ Utilize as funções `np.random.randint` e `np.reshape`\n",
    "\n",
    "(b) Retorne a média do vetor\n",
    "\n",
    "(c) Retorne os menores valores de cada coluna;\n",
    "\n",
    "(d) Retorne os maiores valores de cada linha."
   ]
  },
  {
   "cell_type": "code",
   "execution_count": 28,
   "id": "c41394ee",
   "metadata": {},
   "outputs": [
    {
     "data": {
      "text/plain": [
       "array([[20,  9, 27, 31],\n",
       "       [35, 43, 21, 34],\n",
       "       [ 6,  6, 33, 43],\n",
       "       [13, 29,  9, 34],\n",
       "       [32, 27, 28, 16]])"
      ]
     },
     "execution_count": 28,
     "metadata": {},
     "output_type": "execute_result"
    }
   ],
   "source": [
    "# a\n",
    "mat1 = np.random.randint(0, 50, 20).reshape(5,4)\n",
    "mat1"
   ]
  },
  {
   "cell_type": "code",
   "execution_count": 29,
   "id": "d05923b3",
   "metadata": {},
   "outputs": [
    {
     "data": {
      "text/plain": [
       "24.8"
      ]
     },
     "execution_count": 29,
     "metadata": {},
     "output_type": "execute_result"
    }
   ],
   "source": [
    "# b\n",
    "mat1.mean()"
   ]
  },
  {
   "cell_type": "code",
   "execution_count": 32,
   "id": "8d291371",
   "metadata": {},
   "outputs": [
    {
     "data": {
      "text/plain": [
       "array([ 6,  6,  9, 16])"
      ]
     },
     "execution_count": 32,
     "metadata": {},
     "output_type": "execute_result"
    }
   ],
   "source": [
    "# c\n",
    "mat1.min(axis = 0)"
   ]
  },
  {
   "cell_type": "code",
   "execution_count": 33,
   "id": "d99a0e18",
   "metadata": {},
   "outputs": [
    {
     "data": {
      "text/plain": [
       "array([ 9, 21,  6,  9, 16])"
      ]
     },
     "execution_count": 33,
     "metadata": {},
     "output_type": "execute_result"
    }
   ],
   "source": [
    "# d\n",
    "mat1.min(axis = 1)"
   ]
  },
  {
   "cell_type": "markdown",
   "id": "a6911298",
   "metadata": {},
   "source": [
    "### Problema 2\n",
    "\n",
    "Crie um objeto DataFrame que contenha os dados da tabela abaixo, os quais se referem ao peso, altura e idade de cinco pessoas:\n",
    "\n",
    "\n",
    "| Peso (kg) | Altura (cm) | Idade (anos) |\n",
    "|-----------|-------------|--------------|\n",
    "|  47 | 161\t| 31 |\n",
    "|  80 | 170\t| 21 |\n",
    "|  60 | 175\t| 16 |\n",
    "|  90 | 162\t| 28 |\n",
    "| 100 | 185\t| 23 |\n",
    "| 147 | 189 | 32 |\n",
    "\n",
    "Com base no DataFrame criado, realize o que for pedido nos itens abaixo:\n",
    "\n",
    "(a) Visualize apenas os dados da coluna que contém a altura das pessoas;\n",
    "\n",
    "(b) Obtenha a idade média das pessoas;\n",
    "\n",
    "(c) Obtenha os dados das pessoas que estão abaixo da altura média;\n",
    "\n",
    "(d) Crie um nova coluna no DataFrame que contenha o IMC (Índice de Massa Corporal) de cada pessoa;\n",
    "\n",
    "__Obs.:__ A fórmula para o IMC é dada por IMC = Peso/(Altura)² com o peso em kg e a altura em metros.\n",
    "\n",
    "(e) Remova a coluna que contém a idade das pessoas;\n",
    "\n",
    "(f) Crie uma nova coluna chamada Classificação, que contenha a classificação de cada indivíduo, de acordo com o seu IMC. Para isso, consulte a tabela abaixo.\n",
    "\n",
    "| IMC             | Classificação |\n",
    "|-----------------|---------------|\n",
    "Menor que 18,5    | Subpeso |\n",
    "Entre 18,5 e 24,9 | Normal |\n",
    "Entre 25,0 e 29,9 | Sobrepeso |\n",
    "Entre 30,0 e 39,9 | Obesidade Grau I |\n",
    "Maior que 40,0    | Obesidade Grau II |\n",
    "\n",
    "(g) Salve esses dados do DataFrame em um arquivo csv."
   ]
  },
  {
   "cell_type": "code",
   "execution_count": 38,
   "id": "268ccbbe",
   "metadata": {},
   "outputs": [],
   "source": [
    "df = pd.read_clipboard() #Copiei o quadro acima"
   ]
  },
  {
   "cell_type": "code",
   "execution_count": 39,
   "id": "b3f63481",
   "metadata": {},
   "outputs": [
    {
     "data": {
      "text/html": [
       "<div>\n",
       "<style scoped>\n",
       "    .dataframe tbody tr th:only-of-type {\n",
       "        vertical-align: middle;\n",
       "    }\n",
       "\n",
       "    .dataframe tbody tr th {\n",
       "        vertical-align: top;\n",
       "    }\n",
       "\n",
       "    .dataframe thead th {\n",
       "        text-align: right;\n",
       "    }\n",
       "</style>\n",
       "<table border=\"1\" class=\"dataframe\">\n",
       "  <thead>\n",
       "    <tr style=\"text-align: right;\">\n",
       "      <th></th>\n",
       "      <th>Peso (kg)</th>\n",
       "      <th>Altura (cm)</th>\n",
       "      <th>Idade (anos)</th>\n",
       "    </tr>\n",
       "  </thead>\n",
       "  <tbody>\n",
       "    <tr>\n",
       "      <th>0</th>\n",
       "      <td>47</td>\n",
       "      <td>161</td>\n",
       "      <td>31</td>\n",
       "    </tr>\n",
       "    <tr>\n",
       "      <th>1</th>\n",
       "      <td>80</td>\n",
       "      <td>170</td>\n",
       "      <td>21</td>\n",
       "    </tr>\n",
       "    <tr>\n",
       "      <th>2</th>\n",
       "      <td>60</td>\n",
       "      <td>175</td>\n",
       "      <td>16</td>\n",
       "    </tr>\n",
       "    <tr>\n",
       "      <th>3</th>\n",
       "      <td>90</td>\n",
       "      <td>162</td>\n",
       "      <td>28</td>\n",
       "    </tr>\n",
       "    <tr>\n",
       "      <th>4</th>\n",
       "      <td>100</td>\n",
       "      <td>185</td>\n",
       "      <td>23</td>\n",
       "    </tr>\n",
       "    <tr>\n",
       "      <th>5</th>\n",
       "      <td>147</td>\n",
       "      <td>189</td>\n",
       "      <td>32</td>\n",
       "    </tr>\n",
       "  </tbody>\n",
       "</table>\n",
       "</div>"
      ],
      "text/plain": [
       "   Peso (kg)  Altura (cm)  Idade (anos)\n",
       "0         47          161            31\n",
       "1         80          170            21\n",
       "2         60          175            16\n",
       "3         90          162            28\n",
       "4        100          185            23\n",
       "5        147          189            32"
      ]
     },
     "execution_count": 39,
     "metadata": {},
     "output_type": "execute_result"
    }
   ],
   "source": [
    "df"
   ]
  },
  {
   "cell_type": "code",
   "execution_count": null,
   "id": "ee59db08",
   "metadata": {},
   "outputs": [],
   "source": [
    "df"
   ]
  },
  {
   "cell_type": "code",
   "execution_count": null,
   "id": "cca0a347",
   "metadata": {},
   "outputs": [],
   "source": []
  },
  {
   "cell_type": "markdown",
   "id": "0e9041a8",
   "metadata": {},
   "source": [
    "### Problema 3\n",
    "\n",
    "O arquivo avocado.xlsx consiste em um dataset que contém dados sobre vendas de abacates  em diversas regiões dos Estados Unidos. Essa dataset contém as seguintes colunas:\n",
    "\n",
    "| Coluna | Descrição |\n",
    "|--------|-----------|\n",
    "| Date | data da observação |\n",
    "| AveragePrice | preço médio de um único abacate |\n",
    "| year | ano |\n",
    "| region | cidade ou região da observação |\n",
    "| Total Volume | volume total de abacates vendidos |\n",
    "\n",
    "Além das informações acima, contidas no arquivo avocado.xlsx, o tipo do abacate (convencional ou orgânico) também seria uma informação importante para a sua análise. Suponhamos que você conseguiu essas informações para cada uma das observações do arquivo avocado.csv, na mesma ordem, e salvou-as no arquivo avocado_type.xlsx. Portanto, tudo o que você precisa é juntar esses dois arquivos em um mesmo DataFrame.\n",
    "\n",
    "Com o DataFrame criado, obtenha o que é solicitado nos itens elencados abaixo:\n",
    "\n",
    "\n"
   ]
  },
  {
   "cell_type": "code",
   "execution_count": null,
   "id": "d75d121e",
   "metadata": {},
   "outputs": [],
   "source": []
  },
  {
   "cell_type": "markdown",
   "id": "10d16294",
   "metadata": {},
   "source": [
    "(a) A quantidade de abacates do tipo convecional e do tipo orgânico."
   ]
  },
  {
   "cell_type": "code",
   "execution_count": null,
   "id": "14ca2feb",
   "metadata": {},
   "outputs": [],
   "source": []
  },
  {
   "cell_type": "markdown",
   "id": "58b8d5f2",
   "metadata": {},
   "source": [
    "\n",
    "(b) A quantidade de registros (linhas) de abacates vendidos para cada região ordenada da maior venda para a menor."
   ]
  },
  {
   "cell_type": "code",
   "execution_count": null,
   "id": "704b1308",
   "metadata": {},
   "outputs": [],
   "source": []
  },
  {
   "cell_type": "markdown",
   "id": "e676c9e4",
   "metadata": {},
   "source": [
    "(c) Para que todos os labels das colunas fiquem padronizados, renomeie aqueles que estão iniciando em letra minúscula para que iniciem em letra maiúscula, trocando espaço por _ e adicionando _ como separação de texto."
   ]
  },
  {
   "cell_type": "code",
   "execution_count": null,
   "id": "e6eb7fd4",
   "metadata": {},
   "outputs": [],
   "source": []
  },
  {
   "cell_type": "markdown",
   "id": "45fb0e66",
   "metadata": {},
   "source": [
    "(d) Essa dado possui duplicados? Se sim, remova-os do dataset."
   ]
  },
  {
   "cell_type": "code",
   "execution_count": null,
   "id": "f6ddc02a",
   "metadata": {},
   "outputs": [],
   "source": []
  },
  {
   "cell_type": "markdown",
   "id": "0f484a3c",
   "metadata": {},
   "source": [
    "(e) Retire dos dados a região 'TotalUS'"
   ]
  },
  {
   "cell_type": "code",
   "execution_count": 98,
   "id": "9e35b8e4",
   "metadata": {},
   "outputs": [],
   "source": []
  },
  {
   "cell_type": "markdown",
   "id": "91367a13",
   "metadata": {},
   "source": [
    "(g) Apresente as regiões que mais venderam abacate em todo o período em ordem decrescente."
   ]
  },
  {
   "cell_type": "code",
   "execution_count": null,
   "id": "8b0d4fb7",
   "metadata": {},
   "outputs": [],
   "source": []
  },
  {
   "cell_type": "markdown",
   "id": "6cc5df35",
   "metadata": {},
   "source": [
    "(h) Calcule o volume total de abacates vendidos para cada tipo e ano."
   ]
  },
  {
   "cell_type": "code",
   "execution_count": null,
   "id": "bc3b2aa8",
   "metadata": {},
   "outputs": [],
   "source": []
  },
  {
   "cell_type": "markdown",
   "id": "7c3d71b9",
   "metadata": {},
   "source": [
    "(f) existe alguma região que foi a maior responsável pela queda na produção de 2018?"
   ]
  },
  {
   "cell_type": "code",
   "execution_count": 113,
   "id": "49fdfb7d",
   "metadata": {},
   "outputs": [],
   "source": []
  },
  {
   "cell_type": "markdown",
   "id": "af47a0e8",
   "metadata": {},
   "source": [
    "(g) Qual cidade menos faturou com a venda de abacates?"
   ]
  },
  {
   "cell_type": "code",
   "execution_count": null,
   "id": "3761784a",
   "metadata": {},
   "outputs": [],
   "source": []
  },
  {
   "cell_type": "markdown",
   "id": "70de73df",
   "metadata": {},
   "source": [
    "### Problema 4\n",
    "\n",
    "Com base no dataset 'Video_Games_Sales.csv' responda:\n"
   ]
  },
  {
   "cell_type": "markdown",
   "id": "121c2716",
   "metadata": {},
   "source": [
    "\n",
    "(a) Quantos jogos existem em cada genero?\n"
   ]
  },
  {
   "cell_type": "code",
   "execution_count": null,
   "id": "403ee92a",
   "metadata": {},
   "outputs": [],
   "source": []
  },
  {
   "cell_type": "markdown",
   "id": "5f45c63c",
   "metadata": {},
   "source": [
    "(b) Temos duplicados nesses dados? E nulos?"
   ]
  },
  {
   "cell_type": "code",
   "execution_count": null,
   "id": "c19437c3",
   "metadata": {},
   "outputs": [],
   "source": []
  },
  {
   "cell_type": "markdown",
   "id": "d2be358c",
   "metadata": {},
   "source": [
    "(b) Quantos jogos de cada publisher receberam nota acima de 9 na avaliação dos usuarios?"
   ]
  },
  {
   "cell_type": "code",
   "execution_count": null,
   "id": "7df66316",
   "metadata": {},
   "outputs": [],
   "source": []
  },
  {
   "cell_type": "markdown",
   "id": "9da4e683",
   "metadata": {},
   "source": [
    "\n",
    "(c) Faça uma tabela que mostre o total vendido por ano por pais/globalmente de cada publisher? Você consegue observar algum padrão? Com se comportaram as vendas na América do Norte (NA) ao longo do tempo? O mesmo foi visto nos demais lugares? \n"
   ]
  },
  {
   "cell_type": "code",
   "execution_count": null,
   "id": "984598b0",
   "metadata": {},
   "outputs": [],
   "source": []
  },
  {
   "cell_type": "markdown",
   "id": "587015f7",
   "metadata": {},
   "source": [
    "\n",
    "(d) Qual foi jogo mais vendido na união européia? De que ano ele é e qual a editora?\n"
   ]
  },
  {
   "cell_type": "code",
   "execution_count": null,
   "id": "27d641fc",
   "metadata": {},
   "outputs": [],
   "source": []
  },
  {
   "cell_type": "markdown",
   "id": "215d1c33",
   "metadata": {},
   "source": [
    "\n",
    "(e) Quantos % os generos ['Racing', 'Sports', 'Shooter'] representam na base de dados? "
   ]
  },
  {
   "cell_type": "code",
   "execution_count": null,
   "id": "7156e461",
   "metadata": {},
   "outputs": [],
   "source": []
  },
  {
   "cell_type": "markdown",
   "id": "84126433",
   "metadata": {},
   "source": [
    "(f) Qual plataforma vendeu menos globalmente? obs: imprimir somente o nome"
   ]
  },
  {
   "cell_type": "code",
   "execution_count": null,
   "id": "3e1348d4",
   "metadata": {},
   "outputs": [],
   "source": []
  },
  {
   "cell_type": "markdown",
   "id": "6e8438cf",
   "metadata": {},
   "source": [
    "### Problema 5\n",
    "A pasta 'data/datasus' contém informações sobre casos de dengue e tabelas auxiliares. <br>\n",
    "\n",
    "| Tabela | Conteúdo |\n",
    "|--------|----------|\n",
    "| Dengue | Quantidade de casos por município |\n",
    "| Agua | Quantidade de residências em cada município por tipo o abastecimento de água |\n",
    "| InstalacoesSanitarias | Quantidade de residências em cada município por tipo de rede de esgoto |\n",
    "| Pib | PIB per capita de cada município |\n",
    "| Municipios | Relaciona o id_municipio com seu nome e estado |\n",
    "| Populacao | Quantidade de pessoas morando em áreas urbanas, rurais e população total por município |\n",
    "| Sexo | Quantidade de pessoas por sexo em cada município |\n",
    "\n",
    "(a) Calcular o número de casos de dengue por cada estado apresentando os dados em ordem decrescente.\n"
   ]
  },
  {
   "cell_type": "code",
   "execution_count": 65,
   "id": "6731c8b8",
   "metadata": {},
   "outputs": [
    {
     "name": "stdout",
     "output_type": "stream",
     "text": [
      "['Agua.csv', 'Cid10.csv', 'Dengue.csv', 'InstalacoesSanitarias.csv', 'Municipios.csv', 'Pib.csv', 'Populacao.csv', 'Sexo.csv']\n"
     ]
    }
   ],
   "source": [
    "import os\n",
    "os.getcwd()\n",
    "folder = './data/datasus/'\n",
    "files = os.listdir(folder)\n",
    "print(files)\n",
    "df_agua = pd.read_csv(folder + files[0], delimiter = ',')\n",
    "df_cid10 = pd.read_csv(folder + files[1], delimiter = ',')\n",
    "df_den = pd.read_csv(folder + files[2], delimiter = ',')\n",
    "df_inst_san = pd.read_csv(folder + files[3], delimiter = ',')\n",
    "df_mun = pd.read_csv(folder + files[4], delimiter = ',')\n",
    "df_pib = pd.read_csv(folder + files[5], delimiter = ',')\n",
    "df_pop = pd.read_csv(folder + files[6], delimiter = ',')\n",
    "df_sexo = pd.read_csv(folder + files[7], delimiter = ',')"
   ]
  },
  {
   "cell_type": "code",
   "execution_count": 86,
   "id": "63d9fe1c",
   "metadata": {},
   "outputs": [
    {
     "data": {
      "text/plain": [
       "MG    853\n",
       "SP    645\n",
       "RS    497\n",
       "BA    417\n",
       "PR    399\n",
       "SC    295\n",
       "GO    246\n",
       "PI    224\n",
       "PB    223\n",
       "MA    217\n",
       "PE    185\n",
       "CE    184\n",
       "RN    167\n",
       "PA    144\n",
       "MT    141\n",
       "TO    139\n",
       "AL    102\n",
       "RJ     92\n",
       "MS     79\n",
       "ES     78\n",
       "SE     75\n",
       "AM     62\n",
       "RO     52\n",
       "AC     22\n",
       "AP     16\n",
       "RR     15\n",
       "DF      1\n",
       "Name: UF, dtype: int64"
      ]
     },
     "execution_count": 86,
     "metadata": {},
     "output_type": "execute_result"
    }
   ],
   "source": [
    "df_mun.merge(df_den, how = 'left', on = 'id_municipio')['UF'].value_counts().sort_values(ascending = False)"
   ]
  },
  {
   "cell_type": "markdown",
   "id": "3c7cbb4e",
   "metadata": {},
   "source": [
    "(b) Utilizando o dataset InstalacoesSanitarias.csv, determine o número de pessoas que não possuem meio sanitário algum de descarte de dejetos por estado."
   ]
  },
  {
   "cell_type": "code",
   "execution_count": 89,
   "id": "eca9c2cb",
   "metadata": {},
   "outputs": [
    {
     "data": {
      "text/plain": [
       "UF\n",
       "GO   5,814,249.00\n",
       "BA   1,201,606.00\n",
       "MA     946,217.00\n",
       "PI     649,878.00\n",
       "CE     645,246.00\n",
       "PE     478,587.00\n",
       "PA     306,028.00\n",
       "MG     268,622.00\n",
       "PB     217,920.00\n",
       "AL     212,043.00\n",
       "AM     211,491.00\n",
       "TO     115,376.00\n",
       "AC      73,437.00\n",
       "RS      65,817.00\n",
       "SE      62,352.00\n",
       "RN      62,137.00\n",
       "MT      52,961.00\n",
       "PR      33,131.00\n",
       "RR      29,705.00\n",
       "SP      23,768.00\n",
       "RO      22,181.00\n",
       "RJ      16,987.00\n",
       "SC      16,219.00\n",
       "ES      13,060.00\n",
       "AP      11,208.00\n",
       "MS       9,010.00\n",
       "DF           0.00\n",
       "Name: nao_possui, dtype: float64"
      ]
     },
     "execution_count": 89,
     "metadata": {},
     "output_type": "execute_result"
    }
   ],
   "source": [
    "df_mun.merge(df_inst_san, how = 'left', on = 'id_municipio').groupby('UF')['nao_possui'].sum().sort_values(ascending = False)"
   ]
  },
  {
   "cell_type": "markdown",
   "id": "be4886d4",
   "metadata": {},
   "source": [
    "(c) Crie uma coluna com a posição de ranking considerando o PIB. Os maiores PIB devem ter os menores valores de ranking."
   ]
  },
  {
   "cell_type": "code",
   "execution_count": 103,
   "id": "16508a40",
   "metadata": {},
   "outputs": [
    {
     "data": {
      "text/html": [
       "<div>\n",
       "<style scoped>\n",
       "    .dataframe tbody tr th:only-of-type {\n",
       "        vertical-align: middle;\n",
       "    }\n",
       "\n",
       "    .dataframe tbody tr th {\n",
       "        vertical-align: top;\n",
       "    }\n",
       "\n",
       "    .dataframe thead th {\n",
       "        text-align: right;\n",
       "    }\n",
       "</style>\n",
       "<table border=\"1\" class=\"dataframe\">\n",
       "  <thead>\n",
       "    <tr style=\"text-align: right;\">\n",
       "      <th></th>\n",
       "      <th>index</th>\n",
       "      <th>id_registro</th>\n",
       "      <th>id_municipio</th>\n",
       "      <th>pib_percapta</th>\n",
       "      <th>ranking_PIB</th>\n",
       "    </tr>\n",
       "  </thead>\n",
       "  <tbody>\n",
       "    <tr>\n",
       "      <th>0</th>\n",
       "      <td>3152</td>\n",
       "      <td>3153</td>\n",
       "      <td>3155</td>\n",
       "      <td>715,193.70</td>\n",
       "      <td>1</td>\n",
       "    </tr>\n",
       "    <tr>\n",
       "      <th>1</th>\n",
       "      <td>2962</td>\n",
       "      <td>2963</td>\n",
       "      <td>2965</td>\n",
       "      <td>340,688.49</td>\n",
       "      <td>2</td>\n",
       "    </tr>\n",
       "    <tr>\n",
       "      <th>2</th>\n",
       "      <td>3574</td>\n",
       "      <td>3575</td>\n",
       "      <td>3577</td>\n",
       "      <td>278,145.26</td>\n",
       "      <td>3</td>\n",
       "    </tr>\n",
       "    <tr>\n",
       "      <th>3</th>\n",
       "      <td>3230</td>\n",
       "      <td>3231</td>\n",
       "      <td>3233</td>\n",
       "      <td>255,658.30</td>\n",
       "      <td>4</td>\n",
       "    </tr>\n",
       "    <tr>\n",
       "      <th>4</th>\n",
       "      <td>5163</td>\n",
       "      <td>5164</td>\n",
       "      <td>5169</td>\n",
       "      <td>254,242.69</td>\n",
       "      <td>5</td>\n",
       "    </tr>\n",
       "    <tr>\n",
       "      <th>...</th>\n",
       "      <td>...</td>\n",
       "      <td>...</td>\n",
       "      <td>...</td>\n",
       "      <td>...</td>\n",
       "      <td>...</td>\n",
       "    </tr>\n",
       "    <tr>\n",
       "      <th>5554</th>\n",
       "      <td>617</td>\n",
       "      <td>618</td>\n",
       "      <td>618</td>\n",
       "      <td>3,566.34</td>\n",
       "      <td>5555</td>\n",
       "    </tr>\n",
       "    <tr>\n",
       "      <th>5555</th>\n",
       "      <td>2106</td>\n",
       "      <td>2107</td>\n",
       "      <td>2109</td>\n",
       "      <td>3,561.71</td>\n",
       "      <td>5556</td>\n",
       "    </tr>\n",
       "    <tr>\n",
       "      <th>5556</th>\n",
       "      <td>563</td>\n",
       "      <td>564</td>\n",
       "      <td>564</td>\n",
       "      <td>3,529.10</td>\n",
       "      <td>5557</td>\n",
       "    </tr>\n",
       "    <tr>\n",
       "      <th>5557</th>\n",
       "      <td>643</td>\n",
       "      <td>644</td>\n",
       "      <td>644</td>\n",
       "      <td>3,510.69</td>\n",
       "      <td>5558</td>\n",
       "    </tr>\n",
       "    <tr>\n",
       "      <th>5558</th>\n",
       "      <td>572</td>\n",
       "      <td>573</td>\n",
       "      <td>573</td>\n",
       "      <td>3,241.29</td>\n",
       "      <td>5559</td>\n",
       "    </tr>\n",
       "  </tbody>\n",
       "</table>\n",
       "<p>5559 rows × 5 columns</p>\n",
       "</div>"
      ],
      "text/plain": [
       "      index  id_registro  id_municipio  pib_percapta  ranking_PIB\n",
       "0      3152         3153          3155    715,193.70            1\n",
       "1      2962         2963          2965    340,688.49            2\n",
       "2      3574         3575          3577    278,145.26            3\n",
       "3      3230         3231          3233    255,658.30            4\n",
       "4      5163         5164          5169    254,242.69            5\n",
       "...     ...          ...           ...           ...          ...\n",
       "5554    617          618           618      3,566.34         5555\n",
       "5555   2106         2107          2109      3,561.71         5556\n",
       "5556    563          564           564      3,529.10         5557\n",
       "5557    643          644           644      3,510.69         5558\n",
       "5558    572          573           573      3,241.29         5559\n",
       "\n",
       "[5559 rows x 5 columns]"
      ]
     },
     "execution_count": 103,
     "metadata": {},
     "output_type": "execute_result"
    }
   ],
   "source": [
    "df_pib.sort_values(by = 'pib_percapta', ascending = False, inplace = True)\n",
    "df_pib.reset_index(inplace = True)\n",
    "df_pib['ranking_PIB'] = df_pib.index + 1\n",
    "df_pib"
   ]
  },
  {
   "cell_type": "markdown",
   "id": "9e1f355a",
   "metadata": {},
   "source": [
    "(d) Qual o PIB dos 5 municípios com mais casos de dengue e sua posição no ranking?"
   ]
  },
  {
   "cell_type": "code",
   "execution_count": 141,
   "id": "172634f6",
   "metadata": {},
   "outputs": [
    {
     "data": {
      "text/html": [
       "<div>\n",
       "<style scoped>\n",
       "    .dataframe tbody tr th:only-of-type {\n",
       "        vertical-align: middle;\n",
       "    }\n",
       "\n",
       "    .dataframe tbody tr th {\n",
       "        vertical-align: top;\n",
       "    }\n",
       "\n",
       "    .dataframe thead th {\n",
       "        text-align: right;\n",
       "    }\n",
       "</style>\n",
       "<table border=\"1\" class=\"dataframe\">\n",
       "  <thead>\n",
       "    <tr style=\"text-align: right;\">\n",
       "      <th></th>\n",
       "      <th>id_registro</th>\n",
       "      <th>id_municipio</th>\n",
       "      <th>urbana</th>\n",
       "      <th>rural</th>\n",
       "      <th>total</th>\n",
       "    </tr>\n",
       "  </thead>\n",
       "  <tbody>\n",
       "    <tr>\n",
       "      <th>0</th>\n",
       "      <td>1</td>\n",
       "      <td>1</td>\n",
       "      <td>13806</td>\n",
       "      <td>10,248.00</td>\n",
       "      <td>24054</td>\n",
       "    </tr>\n",
       "    <tr>\n",
       "      <th>1</th>\n",
       "      <td>2</td>\n",
       "      <td>2</td>\n",
       "      <td>3622</td>\n",
       "      <td>9,136.00</td>\n",
       "      <td>12758</td>\n",
       "    </tr>\n",
       "    <tr>\n",
       "      <th>2</th>\n",
       "      <td>3</td>\n",
       "      <td>3</td>\n",
       "      <td>8185</td>\n",
       "      <td>8,913.00</td>\n",
       "      <td>17098</td>\n",
       "    </tr>\n",
       "    <tr>\n",
       "      <th>3</th>\n",
       "      <td>4</td>\n",
       "      <td>4</td>\n",
       "      <td>8755</td>\n",
       "      <td>7,922.00</td>\n",
       "      <td>16677</td>\n",
       "    </tr>\n",
       "    <tr>\n",
       "      <th>4</th>\n",
       "      <td>5</td>\n",
       "      <td>5</td>\n",
       "      <td>75906</td>\n",
       "      <td>13,729.00</td>\n",
       "      <td>89635</td>\n",
       "    </tr>\n",
       "  </tbody>\n",
       "</table>\n",
       "</div>"
      ],
      "text/plain": [
       "   id_registro  id_municipio  urbana     rural  total\n",
       "0            1             1   13806 10,248.00  24054\n",
       "1            2             2    3622  9,136.00  12758\n",
       "2            3             3    8185  8,913.00  17098\n",
       "3            4             4    8755  7,922.00  16677\n",
       "4            5             5   75906 13,729.00  89635"
      ]
     },
     "execution_count": 141,
     "metadata": {},
     "output_type": "execute_result"
    }
   ],
   "source": [
    "df_pop.head()"
   ]
  },
  {
   "cell_type": "code",
   "execution_count": 147,
   "id": "61c84f99",
   "metadata": {
    "scrolled": false
   },
   "outputs": [
    {
     "data": {
      "text/html": [
       "<div>\n",
       "<style scoped>\n",
       "    .dataframe tbody tr th:only-of-type {\n",
       "        vertical-align: middle;\n",
       "    }\n",
       "\n",
       "    .dataframe tbody tr th {\n",
       "        vertical-align: top;\n",
       "    }\n",
       "\n",
       "    .dataframe thead th {\n",
       "        text-align: right;\n",
       "    }\n",
       "</style>\n",
       "<table border=\"1\" class=\"dataframe\">\n",
       "  <thead>\n",
       "    <tr style=\"text-align: right;\">\n",
       "      <th></th>\n",
       "      <th>id_municipio</th>\n",
       "      <th>municipio</th>\n",
       "      <th>casos</th>\n",
       "      <th>ranking_PIB</th>\n",
       "      <th>pib_percapta</th>\n",
       "      <th>total</th>\n",
       "      <th>pib_municipio</th>\n",
       "    </tr>\n",
       "  </thead>\n",
       "  <tbody>\n",
       "    <tr>\n",
       "      <th>5565</th>\n",
       "      <td>5566</td>\n",
       "      <td>522200 Vianópolis</td>\n",
       "      <td>239,395.00</td>\n",
       "      <td>905.00</td>\n",
       "      <td>26,445.72</td>\n",
       "      <td>12,476.00</td>\n",
       "      <td>329,936,802.72</td>\n",
       "    </tr>\n",
       "    <tr>\n",
       "      <th>5336</th>\n",
       "      <td>5337</td>\n",
       "      <td>520085 Americano do Brasil</td>\n",
       "      <td>10,859.00</td>\n",
       "      <td>1,572.00</td>\n",
       "      <td>19,774.03</td>\n",
       "      <td>5,488.00</td>\n",
       "      <td>108,519,876.64</td>\n",
       "    </tr>\n",
       "    <tr>\n",
       "      <th>5412</th>\n",
       "      <td>5413</td>\n",
       "      <td>520810 Formoso</td>\n",
       "      <td>9,340.00</td>\n",
       "      <td>742.00</td>\n",
       "      <td>29,034.21</td>\n",
       "      <td>4,848.00</td>\n",
       "      <td>140,757,850.08</td>\n",
       "    </tr>\n",
       "    <tr>\n",
       "      <th>948</th>\n",
       "      <td>949</td>\n",
       "      <td>230435 Forquilha</td>\n",
       "      <td>4,321.00</td>\n",
       "      <td>1,602.00</td>\n",
       "      <td>19,494.40</td>\n",
       "      <td>21,736.00</td>\n",
       "      <td>423,730,278.40</td>\n",
       "    </tr>\n",
       "    <tr>\n",
       "      <th>5214</th>\n",
       "      <td>5215</td>\n",
       "      <td>510325 Colniza</td>\n",
       "      <td>3,298.00</td>\n",
       "      <td>641.00</td>\n",
       "      <td>31,016.19</td>\n",
       "      <td>25,913.00</td>\n",
       "      <td>803,722,531.47</td>\n",
       "    </tr>\n",
       "  </tbody>\n",
       "</table>\n",
       "</div>"
      ],
      "text/plain": [
       "      id_municipio                   municipio      casos  ranking_PIB  \\\n",
       "5565          5566           522200 Vianópolis 239,395.00       905.00   \n",
       "5336          5337  520085 Americano do Brasil  10,859.00     1,572.00   \n",
       "5412          5413              520810 Formoso   9,340.00       742.00   \n",
       "948            949            230435 Forquilha   4,321.00     1,602.00   \n",
       "5214          5215              510325 Colniza   3,298.00       641.00   \n",
       "\n",
       "      pib_percapta     total  pib_municipio  \n",
       "5565     26,445.72 12,476.00 329,936,802.72  \n",
       "5336     19,774.03  5,488.00 108,519,876.64  \n",
       "5412     29,034.21  4,848.00 140,757,850.08  \n",
       "948      19,494.40 21,736.00 423,730,278.40  \n",
       "5214     31,016.19 25,913.00 803,722,531.47  "
      ]
     },
     "execution_count": 147,
     "metadata": {},
     "output_type": "execute_result"
    }
   ],
   "source": [
    "df1 = df_mun.merge(df_pib, how = 'left', on = 'id_municipio')\n",
    "df2 = df1.merge(df_den, how = 'left', on = 'id_municipio')\n",
    "df3 = df2.merge(df_pop, how = 'left', on = 'id_municipio')\n",
    "df3 = df3.loc[:,['id_municipio', 'municipio', 'casos', 'ranking_PIB','pib_percapta', 'total']]\n",
    "df3['pib_municipio'] = df3['pib_percapta']*df3['total']\n",
    "df3.sort_values(by = 'casos', ascending = False, inplace = True)\n",
    "df3.head()"
   ]
  }
 ],
 "metadata": {
  "kernelspec": {
   "display_name": "Python 3 (ipykernel)",
   "language": "python",
   "name": "python3"
  },
  "language_info": {
   "codemirror_mode": {
    "name": "ipython",
    "version": 3
   },
   "file_extension": ".py",
   "mimetype": "text/x-python",
   "name": "python",
   "nbconvert_exporter": "python",
   "pygments_lexer": "ipython3",
   "version": "3.10.1"
  }
 },
 "nbformat": 4,
 "nbformat_minor": 5
}
