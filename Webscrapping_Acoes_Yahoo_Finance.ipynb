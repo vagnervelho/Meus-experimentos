{
 "cells": [
  {
   "cell_type": "code",
   "execution_count": 44,
   "id": "a495debf",
   "metadata": {
    "scrolled": true
   },
   "outputs": [
    {
     "name": "stdout",
     "output_type": "stream",
     "text": [
      "[*********************100%***********************]  1 of 1 completed\n",
      "[*********************100%***********************]  1 of 1 completed\n",
      "[*********************100%***********************]  1 of 1 completed\n",
      "[*********************100%***********************]  1 of 1 completed\n",
      "['MGLU3.SA', 'ABEV3.SA', 'ITUB4.SA', 'PETR4.SA']\n"
     ]
    }
   ],
   "source": [
    "from pandas_datareader import data as pdr\n",
    "from datetime import date\n",
    "import yfinance as yf\n",
    "import pandas as pd\n",
    "\n",
    "yf.pdr_override()\n",
    "\n",
    "# Tickers list. We can add and delete any ticker from the list to get desired ticker live data\n",
    "ticker_list=['MGLU3.SA', 'ABEV3.SA', 'ITUB4.SA', 'PETR4.SA']\n",
    "today = date.today()\n",
    "\n",
    "# We can get data by our choice by giving days bracket\n",
    "start_date='2022-01-01'\n",
    "end_date=today\n",
    "files=[]\n",
    "\n",
    "def getData(ticker):\n",
    "    df = pdr.get_data_yahoo(ticker, start=start_date, end=today)\n",
    "    dataname= ticker+'_'+str(today)\n",
    "    files.append(dataname)\n",
    "    df.to_csv('./data/'+dataname+'.csv')\n",
    "    return None\n",
    "\n",
    "#This loop will iterate over ticker list, will pass one ticker to get data, and save that data as file.\n",
    "for tik in ticker_list:\n",
    "    getData(tik)\n",
    "print(ticker_list)\n",
    "\n",
    "#This loop will open dataframes in a single list df\n",
    "# df = [0]*len(ticker_list)\n",
    "# for i in range(len(ticker_list)):\n",
    "#     df[i]= pd.read_csv('./data/'+ str(files[i])+'.csv')"
   ]
  }
 ],
 "metadata": {
  "kernelspec": {
   "display_name": "Python 3 (ipykernel)",
   "language": "python",
   "name": "python3"
  },
  "language_info": {
   "codemirror_mode": {
    "name": "ipython",
    "version": 3
   },
   "file_extension": ".py",
   "mimetype": "text/x-python",
   "name": "python",
   "nbconvert_exporter": "python",
   "pygments_lexer": "ipython3",
   "version": "3.10.1"
  }
 },
 "nbformat": 4,
 "nbformat_minor": 5
}
