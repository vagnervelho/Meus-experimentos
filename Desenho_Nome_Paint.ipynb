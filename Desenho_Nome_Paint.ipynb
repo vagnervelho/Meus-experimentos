{
 "cells": [
  {
   "cell_type": "code",
   "execution_count": 114,
   "id": "0c0e0317",
   "metadata": {},
   "outputs": [],
   "source": [
    "import pyautogui as pt\n",
    "import time\n",
    "from random import random\n",
    "\n",
    "# pt.click(x, y)\n",
    "\n",
    "time.sleep(3)\n",
    "pt.click(322,66)\n",
    "pt.click(322,66)\n",
    "\n",
    "def muda_cor():\n",
    "    aleatorio1 = 22*round(9*random(),0)\n",
    "    aleatorio2 = 22*round(1*random(),0)\n",
    "    pt.click(765+aleatorio1,62+aleatorio2)\n",
    "    pt.click(765+aleatorio1,62+aleatorio2)\n",
    "    return None\n",
    "\n",
    "# V\n",
    "for i in range(1,20):\n",
    "    pt.click(100+i, 200+2*i)\n",
    "    muda_cor()\n",
    "for i in range(1,20):\n",
    "    pt.click(120+i, 240-2*i)\n",
    "    muda_cor()\n",
    "\n",
    "# Á\n",
    "for i in range(1,20):\n",
    "    pt.click(150, 200+2*i)\n",
    "    muda_cor()\n",
    "for i in range(1,20):\n",
    "    pt.click(150+i, 200)\n",
    "    muda_cor()\n",
    "for i in range(1,20):\n",
    "    pt.click(170, 200+2*i)\n",
    "    muda_cor()\n",
    "for i in range(1,20):\n",
    "    pt.click(150+i, 220)\n",
    "    muda_cor()\n",
    "for i in range(1,10):\n",
    "    pt.click(160+i, 190-i)\n",
    "    muda_cor()\n",
    "\n",
    "# G\n",
    "for i in range(1,20):\n",
    "    pt.click(180, 200+2*i)\n",
    "    muda_cor()\n",
    "for i in range(1,20):\n",
    "    pt.click(180+i, 240)\n",
    "    muda_cor()\n",
    "for i in range(1,15):\n",
    "    pt.click(200, 240-i)\n",
    "    muda_cor()\n",
    "for i in range(1,10):\n",
    "    pt.click(200-i, 225)\n",
    "    muda_cor()\n",
    "for i in range(1,20):\n",
    "    pt.click(180+i, 200)\n",
    "    muda_cor()\n",
    "for i in range(1,15):\n",
    "    pt.click(200, 200+i)\n",
    "    muda_cor()"
   ]
  },
  {
   "cell_type": "code",
   "execution_count": 87,
   "id": "08759823",
   "metadata": {},
   "outputs": [],
   "source": [
    "percurso = []\n",
    "time.sleep(1)\n",
    "for i in range(1,50):\n",
    "    percurso.append([pt.position()[0], pt.position()[1]])\n",
    "    time.sleep(0.01)\n",
    "for i in range(1,49):\n",
    "    pt.dragTo(percurso[i][0],percurso[i][1])\n",
    "    pt.mouseDown()\n",
    "pt.mouseUp()"
   ]
  },
  {
   "cell_type": "code",
   "execution_count": 113,
   "id": "6fe56c92",
   "metadata": {
    "scrolled": true
   },
   "outputs": [
    {
     "data": {
      "text/plain": [
       "Point(x=762, y=82)"
      ]
     },
     "execution_count": 113,
     "metadata": {},
     "output_type": "execute_result"
    }
   ],
   "source": [
    "time.sleep(2)\n",
    "pt.position()"
   ]
  }
 ],
 "metadata": {
  "kernelspec": {
   "display_name": "Python 3 (ipykernel)",
   "language": "python",
   "name": "python3"
  },
  "language_info": {
   "codemirror_mode": {
    "name": "ipython",
    "version": 3
   },
   "file_extension": ".py",
   "mimetype": "text/x-python",
   "name": "python",
   "nbconvert_exporter": "python",
   "pygments_lexer": "ipython3",
   "version": "3.10.1"
  }
 },
 "nbformat": 4,
 "nbformat_minor": 5
}
