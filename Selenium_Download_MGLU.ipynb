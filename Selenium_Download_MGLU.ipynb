{
 "cells": [
  {
   "cell_type": "code",
   "execution_count": 15,
   "id": "b724fd87",
   "metadata": {},
   "outputs": [
    {
     "name": "stderr",
     "output_type": "stream",
     "text": [
      "C:\\Users\\VAGNER~1\\AppData\\Local\\Temp/ipykernel_20320/3776091768.py:5: DeprecationWarning: find_element_by_* commands are deprecated. Please use find_element() instead\n",
      "  navegador.find_element_by_xpath('//*[@id=\"/yn8cix7XmBHQ2FgNBrtCg==\"]').click()\n"
     ]
    }
   ],
   "source": [
    "from selenium import webdriver as wb\n",
    "\n",
    "navegador = wb.Chrome()\n",
    "navegador.get('https://ri.magazineluiza.com.br/show.aspx?idCanal=CHN0/Z4bUSgrS8IkQeL+Wg==')\n",
    "navegador.find_element_by_xpath('//*[@id=\"/yn8cix7XmBHQ2FgNBrtCg==\"]').click()"
   ]
  },
  {
   "cell_type": "code",
   "execution_count": null,
   "id": "324c3e48",
   "metadata": {},
   "outputs": [],
   "source": []
  }
 ],
 "metadata": {
  "kernelspec": {
   "display_name": "Python 3 (ipykernel)",
   "language": "python",
   "name": "python3"
  },
  "language_info": {
   "codemirror_mode": {
    "name": "ipython",
    "version": 3
   },
   "file_extension": ".py",
   "mimetype": "text/x-python",
   "name": "python",
   "nbconvert_exporter": "python",
   "pygments_lexer": "ipython3",
   "version": "3.10.1"
  }
 },
 "nbformat": 4,
 "nbformat_minor": 5
}
