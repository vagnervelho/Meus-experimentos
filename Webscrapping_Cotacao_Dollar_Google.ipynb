{
 "cells": [
  {
   "cell_type": "code",
   "execution_count": 52,
   "id": "1fd452f1",
   "metadata": {},
   "outputs": [
    {
     "name": "stdout",
     "output_type": "stream",
     "text": [
      "Cotação do dólar: R$ 5.54\n"
     ]
    }
   ],
   "source": [
    "import requests\n",
    "from bs4 import BeautifulSoup\n",
    "\n",
    "headers = {'User-Agent': 'Mozilla/5.0 (Windows NT 10.0; Win64; x64) AppleWebKit/537.36 (KHTML, like Gecko) Chrome/97.0.4692.71 Safari/537.36'}\n",
    "page = requests.get('https://www.google.com/search?q=dolar&oq=dolar&aqs=chrome..69i57j35i39j35i19i39j69i61j69i60l4.736j0j7&sourceid=chrome&ie=UTF-8', headers = headers)\n",
    "soup = BeautifulSoup(page.content, 'html.parser')\n",
    "atributos = {'class':'g'}\n",
    "cotacao_dolar = float(soup.find_all('span', class_= 'DFlfde SwHCTb')[0]['data-value'])\n",
    "\n",
    "print('Cotação do dólar: R$ {:.2f}'.format(cotacao_dolar))\n",
    "input()"
   ]
  }
 ],
 "metadata": {
  "kernelspec": {
   "display_name": "Python 3 (ipykernel)",
   "language": "python",
   "name": "python3"
  },
  "language_info": {
   "codemirror_mode": {
    "name": "ipython",
    "version": 3
   },
   "file_extension": ".py",
   "mimetype": "text/x-python",
   "name": "python",
   "nbconvert_exporter": "python",
   "pygments_lexer": "ipython3",
   "version": "3.10.1"
  }
 },
 "nbformat": 4,
 "nbformat_minor": 5
}
