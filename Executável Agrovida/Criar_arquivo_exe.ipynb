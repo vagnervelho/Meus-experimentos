{
 "cells": [
  {
   "cell_type": "code",
   "execution_count": null,
   "id": "cc9356d2",
   "metadata": {},
   "outputs": [],
   "source": [
    "# Import the os module\n",
    "import os\n",
    "\n",
    "# Get the current working directory\n",
    "pasta = 'C:\\\\Users\\\\Vagner Velho\\\\OneDrive\\\\Desktop'\n",
    "os.chdir(pasta)\n",
    "cwd = os.getcwd()\n",
    "\n",
    "# Print the current working directory\n",
    "print(\"Current working directory: {0}\".format(cwd))\n",
    "\n",
    "# Edit the file\n",
    "arquivo = open(pasta + \"\\\\\" + \"teste.py\", \"w\", encoding=\"utf-8\")\n",
    "arquivo.write(\"print('Hello World')\\n\")\n",
    "arquivo.write('input(\"Press enter to close: \")')\n",
    "arquivo.close()\n",
    "\n",
    "# Create a one exe file with an icon 'lettuce.ico' that is in the same folder of the teste.py file\n",
    "!pyinstaller teste.py --onefile --icon=lettuce.ico"
   ]
  },
  {
   "cell_type": "code",
   "execution_count": null,
   "id": "e0b36a5c",
   "metadata": {},
   "outputs": [],
   "source": [
    "arquivo = open(pasta + \"\\\\\" + \"teste.py\", \"r+\", encoding=\"utf-8\")\n",
    "exec(arquivo.read())\n",
    "arquivo.close()"
   ]
  }
 ],
 "metadata": {
  "kernelspec": {
   "display_name": "Python 3 (ipykernel)",
   "language": "python",
   "name": "python3"
  },
  "language_info": {
   "codemirror_mode": {
    "name": "ipython",
    "version": 3
   },
   "file_extension": ".py",
   "mimetype": "text/x-python",
   "name": "python",
   "nbconvert_exporter": "python",
   "pygments_lexer": "ipython3",
   "version": "3.10.1"
  }
 },
 "nbformat": 4,
 "nbformat_minor": 5
}
